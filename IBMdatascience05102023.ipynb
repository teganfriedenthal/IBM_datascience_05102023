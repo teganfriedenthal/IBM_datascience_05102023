{
  "metadata": {
    "language_info": {
      "codemirror_mode": {
        "name": "python",
        "version": 3
      },
      "file_extension": ".py",
      "mimetype": "text/x-python",
      "name": "python",
      "nbconvert_exporter": "python",
      "pygments_lexer": "ipython3",
      "version": "3.8"
    },
    "kernelspec": {
      "name": "python",
      "display_name": "Python (Pyodide)",
      "language": "python"
    }
  },
  "nbformat_minor": 4,
  "nbformat": 4,
  "cells": [
    {
      "cell_type": "markdown",
      "source": "My notebook",
      "metadata": {}
    },
    {
      "cell_type": "markdown",
      "source": "This is my notebook for the IBM data science course project!",
      "metadata": {}
    },
    {
      "cell_type": "markdown",
      "source": "Data science languages:\n\n1. Python\n2. R\n3. SQL",
      "metadata": {}
    },
    {
      "cell_type": "markdown",
      "source": "Data science libraries:\n\n1. Pandas\n2. NumPy\n3. TensorFlow",
      "metadata": {}
    },
    {
      "cell_type": "markdown",
      "source": "Data science tools:\n\n1. PowerBI\n2. SAS\n3. Tableau",
      "metadata": {}
    },
    {
      "cell_type": "markdown",
      "source": "Arithmetic expressions are used as operands of certain conditional and arithmetic statements.",
      "metadata": {}
    },
    {
      "cell_type": "markdown",
      "source": "These are functions to demonstrate the arithmetic expressions add and multiply:",
      "metadata": {}
    },
    {
      "cell_type": "code",
      "source": "def add(x,y):\n    return x+y\n\nprint(\"Addition test: 3+4=\"+str(add(3,4)))\n\ndef multiply(x,y):\n    return x*y\n\nprint(\"Multiplication test: 3*4=\"+str(multiply(3,4)))",
      "metadata": {
        "trusted": true
      },
      "execution_count": 5,
      "outputs": [
        {
          "name": "stdout",
          "text": "Addition test: 3+4=7\nMultiplication test: 3*4=12\n",
          "output_type": "stream"
        }
      ]
    },
    {
      "cell_type": "markdown",
      "source": "This is a function to demonstrate a conversion from mins to hours using Python",
      "metadata": {}
    },
    {
      "cell_type": "code",
      "source": "import math\n\ndef mins_to_hours(x):\n    hours = x/60\n    hour = math.floor(hours)\n    mins = x%60\n    return str(x)+\" minuites equals \"+str(round(hours,2))+\" hours or \"+str(hour)+\" hours and \"+str(round(mins,0))+\" minutes\"\n    \nprint(mins_to_hours(100))",
      "metadata": {
        "trusted": true
      },
      "execution_count": 16,
      "outputs": [
        {
          "name": "stdout",
          "text": "100 minuites equals 1.67 hours or 1 hours and 40 minutes\n",
          "output_type": "stream"
        }
      ]
    },
    {
      "cell_type": "markdown",
      "source": "Objectives:\n\n1. Understand how to use jupyter notebook\n2. Understand basic python functions\n3. Understand how to use Git",
      "metadata": {}
    },
    {
      "cell_type": "markdown",
      "source": "Author: Tegan Friedenthal",
      "metadata": {}
    }
  ]
}
